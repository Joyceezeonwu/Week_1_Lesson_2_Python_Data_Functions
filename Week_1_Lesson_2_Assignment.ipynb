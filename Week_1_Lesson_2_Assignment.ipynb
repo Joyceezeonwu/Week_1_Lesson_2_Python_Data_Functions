{
 "cells": [
  {
   "cell_type": "code",
   "execution_count": 1,
   "id": "9a18e460",
   "metadata": {},
   "outputs": [],
   "source": [
    "#Creating a function that repeats the first 2 letters of a word which will be followed by 3 dots and a space after. \n",
    "#The string should be ended with a question mark."
   ]
  },
  {
   "cell_type": "code",
   "execution_count": 13,
   "id": "73f644e5",
   "metadata": {},
   "outputs": [
    {
     "name": "stdout",
     "output_type": "stream",
     "text": [
      "Jo... Jo... Joyce?\n"
     ]
    }
   ],
   "source": [
    "def repeat_alp(i):\n",
    "    print(f\"{i[0:2]}... {i[0:2]}... {i}?\")\n",
    "repeat_alp(\"Joyce\")\n"
   ]
  },
  {
   "cell_type": "code",
   "execution_count": null,
   "id": "09aa0661",
   "metadata": {},
   "outputs": [],
   "source": [
    "#Performing a for loop that searches through a string and prints only distinct vowel letters."
   ]
  },
  {
   "cell_type": "code",
   "execution_count": 14,
   "id": "c3006cd8",
   "metadata": {},
   "outputs": [
    {
     "name": "stdout",
     "output_type": "stream",
     "text": [
      "a e "
     ]
    }
   ],
   "source": [
    "vowels = \"aeiou\"\n",
    "def run_through(x):\n",
    "    for i in vowels:\n",
    "        if i in x:\n",
    "            print(i, end=\" \")\n",
    "run_through(\"Umbrella\")"
   ]
  },
  {
   "cell_type": "code",
   "execution_count": 15,
   "id": "1210dff1",
   "metadata": {},
   "outputs": [],
   "source": [
    "#Performing a while loop that requests for a name, if that name is entered, it will be printed else, \n",
    "#if user types “end” (this command should be case insensitive), the while loop is terminated"
   ]
  },
  {
   "cell_type": "code",
   "execution_count": 19,
   "id": "55c00a02",
   "metadata": {},
   "outputs": [
    {
     "name": "stdout",
     "output_type": "stream",
     "text": [
      "Enter name, or type end to quit: Joyce\n",
      "Enter name, or type end to quit: Flora\n",
      "Enter name, or type end to quit: End\n"
     ]
    }
   ],
   "source": [
    "user_name = True\n",
    "while user_name:\n",
    "    name = input(\"Enter name, or type end to quit: \")\n",
    "    if name.lower() == \"end\":\n",
    "        user_name = False"
   ]
  },
  {
   "cell_type": "code",
   "execution_count": null,
   "id": "8e2a5221",
   "metadata": {},
   "outputs": [],
   "source": []
  }
 ],
 "metadata": {
  "kernelspec": {
   "display_name": "Python 3 (ipykernel)",
   "language": "python",
   "name": "python3"
  },
  "language_info": {
   "codemirror_mode": {
    "name": "ipython",
    "version": 3
   },
   "file_extension": ".py",
   "mimetype": "text/x-python",
   "name": "python",
   "nbconvert_exporter": "python",
   "pygments_lexer": "ipython3",
   "version": "3.9.12"
  }
 },
 "nbformat": 4,
 "nbformat_minor": 5
}
